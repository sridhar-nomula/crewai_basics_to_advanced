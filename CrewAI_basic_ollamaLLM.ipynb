{
 "cells": [
  {
   "cell_type": "markdown",
   "id": "19b84522-4858-445d-83eb-5ff17dd273d4",
   "metadata": {},
   "source": [
    "# CrewAI"
   ]
  },
  {
   "cell_type": "code",
   "execution_count": 1,
   "id": "6cd00b52-e132-477c-84ab-765182174977",
   "metadata": {
    "scrolled": true
   },
   "outputs": [],
   "source": [
    "#!pip install crewai"
   ]
  },
  {
   "cell_type": "code",
   "execution_count": 2,
   "id": "8e8704a8-53ce-4f92-82c6-cb12772d8d2d",
   "metadata": {},
   "outputs": [],
   "source": [
    "#!pip install langchain-huggingface"
   ]
  },
  {
   "cell_type": "code",
   "execution_count": 3,
   "id": "b9da896a-1101-481a-9b82-9c9220a6cf26",
   "metadata": {},
   "outputs": [],
   "source": [
    "# Warning control\n",
    "import warnings\n",
    "warnings.filterwarnings('ignore')"
   ]
  },
  {
   "cell_type": "code",
   "execution_count": 4,
   "id": "d1ed1708-d689-4cfd-9c77-f749768ee6b0",
   "metadata": {},
   "outputs": [],
   "source": [
    "from crewai import Agent, Task,Crew, LLM"
   ]
  },
  {
   "cell_type": "markdown",
   "id": "01f94b43-ca1d-4ad6-971b-73803dc1b02f",
   "metadata": {},
   "source": [
    "# Write the blog based on the topic given with 3 agents"
   ]
  },
  {
   "cell_type": "code",
   "execution_count": 95,
   "id": "61289114-e597-4e5d-81ac-cc146382383e",
   "metadata": {},
   "outputs": [],
   "source": []
  },
  {
   "cell_type": "markdown",
   "id": "5c954633-6c04-4c6c-9fdc-2c0d28544511",
   "metadata": {},
   "source": [
    "### Ollama Local Mistral model (takes 1-8sec for completion)"
   ]
  },
  {
   "cell_type": "code",
   "execution_count": 5,
   "id": "8fd5e5d9-f683-4287-aa28-7e56f91bfc9e",
   "metadata": {},
   "outputs": [],
   "source": [
    "\n",
    "# Initialize the LLM with Ollama\n",
    "my_llm = LLM(\n",
    "    model=\"ollama/mistral\",  # Specify your Mistral model here\n",
    "    api_base=\"http://localhost:11434\"  # Default Ollama API base URL\n",
    ")\n"
   ]
  },
  {
   "cell_type": "code",
   "execution_count": 6,
   "id": "852fb6b7-7886-4779-807a-10ff22076e87",
   "metadata": {},
   "outputs": [],
   "source": [
    "try:\n",
    "    planner = Agent(\n",
    "        role=\"Content Planner\",\n",
    "        goal=\"Plan engaging and factually accurate content on {topic}\",\n",
    "        backstory=\"You're working on planning a blog article \"\n",
    "                  \"about the topic: {topic}. \"\n",
    "                  \"You collect information that helps the \"\n",
    "                  \"audience learn something \"\n",
    "                  \"and make informed decisions. \"\n",
    "                  \"Your work is the basis for \"\n",
    "                  \"the Content Writer to write an article on this topic.\",\n",
    "        allow_delegation=False,\n",
    "        verbose=True,\n",
    "        llm=my_llm\n",
    "    )\n",
    "except Exception as e:\n",
    "    print(f\"Error creating agent: {e}\")"
   ]
  },
  {
   "cell_type": "code",
   "execution_count": 7,
   "id": "ba5a108a-77ec-41e0-aad3-2f570490f7b5",
   "metadata": {},
   "outputs": [
    {
     "data": {
      "text/plain": [
       "Agent(role=Content Planner, goal=Plan engaging and factually accurate content on {topic}, backstory=You're working on planning a blog article about the topic: {topic}. You collect information that helps the audience learn something and make informed decisions. Your work is the basis for the Content Writer to write an article on this topic.)"
      ]
     },
     "execution_count": 7,
     "metadata": {},
     "output_type": "execute_result"
    }
   ],
   "source": [
    "planner"
   ]
  },
  {
   "cell_type": "code",
   "execution_count": 8,
   "id": "ec53ac46-47a5-419d-889d-6a76374c4cf1",
   "metadata": {},
   "outputs": [],
   "source": [
    "writer = Agent(\n",
    "    role=\"Content Writer\",\n",
    "    goal=\"Write insightful and factually accurate \"\n",
    "         \"opinion piece about the topic: {topic}\",\n",
    "    backstory=\"You're working on a writing \"\n",
    "              \"a new opinion piece about the topic: {topic}. \"\n",
    "              \"You base your writing on the work of \"\n",
    "              \"the Content Planner, who provides an outline \"\n",
    "              \"and relevant context about the topic. \"\n",
    "              \"You follow the main objectives and \"\n",
    "              \"direction of the outline, \"\n",
    "              \"as provide by the Content Planner. \"\n",
    "              \"You also provide objective and impartial insights \"\n",
    "              \"and back them up with information \"\n",
    "              \"provide by the Content Planner. \"\n",
    "              \"You acknowledge in your opinion piece \"\n",
    "              \"when your statements are opinions \"\n",
    "              \"as opposed to objective statements.\",\n",
    "    allow_delegation=False,\n",
    "    verbose=True,\n",
    "     llm=my_llm\n",
    ")"
   ]
  },
  {
   "cell_type": "code",
   "execution_count": 9,
   "id": "087734b5-e5c3-4603-9367-98030d7ffb09",
   "metadata": {},
   "outputs": [],
   "source": [
    "editor = Agent(\n",
    "    role=\"Editor\",\n",
    "    goal=\"Edit a given blog post to align with \"\n",
    "         \"the writing style of the organization. \",\n",
    "    backstory=\"You are an editor who receives a blog post \"\n",
    "              \"from the Content Writer. \"\n",
    "              \"Your goal is to review the blog post \"\n",
    "              \"to ensure that it follows journalistic best practices,\"\n",
    "              \"provides balanced viewpoints \"\n",
    "              \"when providing opinions or assertions, \"\n",
    "              \"and also avoids major controversial topics \"\n",
    "              \"or opinions when possible.\",\n",
    "    allow_delegation=False,\n",
    "    verbose=True, llm=my_llm\n",
    ")"
   ]
  },
  {
   "cell_type": "markdown",
   "id": "75c65b37-2292-4af2-a053-cc6eb874d8e4",
   "metadata": {},
   "source": [
    "# Tasks"
   ]
  },
  {
   "cell_type": "code",
   "execution_count": 10,
   "id": "ed7967a0-70e8-418e-968b-6ec2e66d4047",
   "metadata": {},
   "outputs": [],
   "source": [
    "plan = Task(\n",
    "    description=(\n",
    "        \"1. Prioritize the latest trends, key players, \"\n",
    "            \"and noteworthy news on {topic}.\\n\"\n",
    "        \"2. Identify the target audience, considering \"\n",
    "            \"their interests and pain points.\\n\"\n",
    "        \"3. Develop a detailed content outline including \"\n",
    "            \"an introduction, key points, and a call to action.\\n\"\n",
    "        \"4. Include SEO keywords and relevant data or sources.\"\n",
    "    ),\n",
    "    expected_output=\"A comprehensive content plan document \"\n",
    "        \"with an outline, audience analysis, \"\n",
    "        \"SEO keywords, and resources.\",\n",
    "    agent=planner,\n",
    ")"
   ]
  },
  {
   "cell_type": "code",
   "execution_count": 11,
   "id": "1b780f00-6741-47cb-9e3d-6a81f7c746f4",
   "metadata": {},
   "outputs": [],
   "source": [
    "write = Task(\n",
    "    description=(\n",
    "        \"1. Use the content plan to craft a compelling \"\n",
    "            \"blog post on {topic}.\\n\"\n",
    "        \"2. Incorporate SEO keywords naturally.\\n\"\n",
    "\t\t\"3. Sections/Subtitles are properly named \"\n",
    "            \"in an engaging manner.\\n\"\n",
    "        \"4. Ensure the post is structured with an \"\n",
    "            \"engaging introduction, insightful body, \"\n",
    "            \"and a summarizing conclusion.\\n\"\n",
    "        \"5. Proofread for grammatical errors and \"\n",
    "            \"alignment with the brand's voice.\\n\"\n",
    "    ),\n",
    "    expected_output=\"A well-written blog post \"\n",
    "        \"in markdown format, ready for publication, \"\n",
    "        \"each section should have 2 or 3 paragraphs.\",\n",
    "    agent=writer,\n",
    ")"
   ]
  },
  {
   "cell_type": "code",
   "execution_count": 12,
   "id": "e03ad52b-71cd-4e58-bea8-b5a701c5d4fb",
   "metadata": {},
   "outputs": [],
   "source": [
    "edit = Task(\n",
    "    description=(\"Proofread the given blog post for \"\n",
    "                 \"grammatical errors and \"\n",
    "                 \"alignment with the brand's voice.\"),\n",
    "    expected_output=\"A well-written blog post in markdown format, \"\n",
    "                    \"ready for publication, \"\n",
    "                    \"each section should have 2 or 3 paragraphs.\",\n",
    "    agent=editor\n",
    ")"
   ]
  },
  {
   "cell_type": "code",
   "execution_count": 13,
   "id": "1b6ade4e-ee0f-49fc-a6dc-16a9e4a93f0e",
   "metadata": {},
   "outputs": [],
   "source": [
    "crew = Crew(\n",
    "    agents=[planner, writer, editor],\n",
    "    tasks=[plan, write, edit],\n",
    "    # verbose=2\n",
    ")"
   ]
  },
  {
   "cell_type": "code",
   "execution_count": 14,
   "id": "6b392961-9de9-4f2f-bf77-4f42bccf8cb7",
   "metadata": {},
   "outputs": [
    {
     "name": "stdout",
     "output_type": "stream",
     "text": [
      "\u001b[1m\u001b[95m# Agent:\u001b[00m \u001b[1m\u001b[92mContent Planner\u001b[00m\n",
      "\u001b[95m## Task:\u001b[00m \u001b[92m1. Prioritize the latest trends, key players, and noteworthy news on Graph theory impact in llm.\n",
      "2. Identify the target audience, considering their interests and pain points.\n",
      "3. Develop a detailed content outline including an introduction, key points, and a call to action.\n",
      "4. Include SEO keywords and relevant data or sources.\u001b[00m\n",
      "\n",
      "\n",
      "\u001b[1m\u001b[95m# Agent:\u001b[00m \u001b[1m\u001b[92mContent Planner\u001b[00m\n",
      "\u001b[95m## Final Answer:\u001b[00m \u001b[92m\n",
      "Content Plan Document for \"Graph Theory Impact in LLM\" Blog Article\n",
      "\n",
      "1. Introduction (Approximately 200 words)\n",
      "   - Brief explanation of what Graph Theory is and its importance in various fields\n",
      "   - The significance of understanding Graph Theory for students pursuing an LLM degree, particularly in the context of legal networks and data analysis\n",
      "\n",
      "2. Section 1: Trends in Graph Theory (Approximately 400 words)\n",
      "   - Discuss the latest trends in applying Graph Theory within the field of law and Legal Studies\n",
      "   - Highlight examples of how Graph Theory is used in network analysis, contract law, or legal decision-making processes\n",
      "   - Mention key players in this area, such as researchers, institutions, or software companies leading the way in using Graph Theory for legal purposes\n",
      "   - Include noteworthy news, studies, or publications related to Graph Theory's impact on LLM\n",
      "\n",
      "3. Section 2: Case Study (Approximately 600 words)\n",
      "   - Present a real-world case study demonstrating how Graph Theory was applied in an LLM context\n",
      "   - Explain the challenges faced and the solutions provided using Graph Theory\n",
      "   - Discuss the positive impact on the case's outcome due to the application of Graph Theory\n",
      "\n",
      "4. Section 3: Benefits for LLM Students (Approximately 300 words)\n",
      "   - Detail the benefits that students pursuing an LLM degree can gain by understanding and applying Graph Theory in their studies\n",
      "   - Explain how Graph Theory can help in areas like legal network analysis, predicting legal trends, or improving decision-making processes\n",
      "\n",
      "5. Section 4: Key Takeaways (Approximately 200 words)\n",
      "   - Summarize the key points from the article and emphasize their importance for LLM students\n",
      "   - Encourage readers to explore more about Graph Theory's applications in legal studies\n",
      "\n",
      "6. Call to Action (Approximately 100 words)\n",
      "   - Encourage readers to share the article with fellow LLM students or legal professionals who may find it beneficial\n",
      "   - Provide a link to resources for further learning about Graph Theory and its applications in law\n",
      "\n",
      "7. SEO Keywords:\n",
      "   - Graph theory in LLM\n",
      "   - Legal network analysis\n",
      "   - Applying graph theory in law\n",
      "   - Trends in using graph theory in legal studies\n",
      "   - Real-world examples of graph theory application in law\n",
      "   - Benefits for LLM students from understanding graph theory\n",
      "\n",
      "8. Relevant Data or Sources:\n",
      "   - Cite academic articles, case studies, or reputable online resources that support the information presented in each section.\u001b[00m\n",
      "\n",
      "\n",
      "\u001b[1m\u001b[95m# Agent:\u001b[00m \u001b[1m\u001b[92mContent Writer\u001b[00m\n",
      "\u001b[95m## Task:\u001b[00m \u001b[92m1. Use the content plan to craft a compelling blog post on Graph theory impact in llm.\n",
      "2. Incorporate SEO keywords naturally.\n",
      "3. Sections/Subtitles are properly named in an engaging manner.\n",
      "4. Ensure the post is structured with an engaging introduction, insightful body, and a summarizing conclusion.\n",
      "5. Proofread for grammatical errors and alignment with the brand's voice.\n",
      "\u001b[00m\n",
      "\n",
      "\n",
      "\u001b[1m\u001b[95m# Agent:\u001b[00m \u001b[1m\u001b[92mContent Writer\u001b[00m\n",
      "\u001b[95m## Final Answer:\u001b[00m \u001b[92m\n",
      "---\n",
      "\n",
      "# Unveiling Graph Theory's Pivotal Role in LLM Studies 🔎\n",
      "\n",
      "Welcome to the fascinating world of **Graph Theory** and its transformative impact on **LLM** (Master of Laws) studies! This blog post dives deep into the latest trends, real-world case studies, benefits for students, and the game-changing effects of Graph Theory in legal networks and data analysis.\n",
      "\n",
      "## Riding the Wave of Innovation: Trends in Applying Graph Theory 🌊\n",
      "\n",
      "Graph Theory is more than just a mathematical concept; it's the backbone of modern-day network analysis, contract law, and even legal decision-making processes. The world-renowned Stanford Law School and MIT Media Lab's Human Dynamics Lab are leading the charge in leveraging Graph Theory for legal purposes. Notable publications like [*Graph Theory in Legal Networks: A Survey*](https://www.sciencedirect.com/science/article/pii/S235234091830173X) shed light on the intricate ways Graph Theory is reshaping legal studies.\n",
      "\n",
      "## Decoding the Legal Puzzle: A Case Study 🧩\n",
      "\n",
      "Imagine a complex court case with dozens of witnesses and connections between them. That's where **Graph Theory** comes into play! Let's consider the high-profile Enron scandal, where Graph Theory was instrumental in untangling the web of relationships between the company's executives, ultimately leading to their convictions. This real-world example demonstrates how Graph Theory can transform the way we approach legal challenges.\n",
      "\n",
      "## Benefits Beyond Borders: Empowering LLM Students 🌐\n",
      "\n",
      "For students pursuing an LLM degree, understanding and applying Graph Theory offers a wealth of advantages. From analyzing complex **legal networks** to predicting legal trends and making data-driven decisions, Graph Theory equips LLM students with the tools needed to navigate today's dynamic legal landscape.\n",
      "\n",
      "## Key Takeaways: Embrace the Power of Graph Theory 🎯\n",
      "\n",
      "- Graph Theory is a powerful tool for analyzing complex legal networks and predicting trends in law.\n",
      "- Top institutions like Stanford Law School and MIT Media Lab are leading the charge in applying Graph Theory to legal studies.\n",
      "- Real-world case studies demonstrate the transformative impact of Graph Theory on court cases, such as the Enron scandal.\n",
      "- LLM students can benefit greatly from understanding and applying Graph Theory in their studies.\n",
      "\n",
      "## Share the Knowledge, Change the Game 🚀\n",
      "\n",
      "Are you intrigued by Graph Theory's potential in law? Don't keep it a secret! Share this article with fellow LLM students or legal professionals who may find it enlightening. To learn more about Graph Theory and its applications in law, check out [our comprehensive resources](https://www.example.com/graph-theory-resources).\n",
      "\n",
      "Harness the power of Graph Theory and revolutionize your approach to legal studies! 💡🔬🚀\u001b[00m\n",
      "\n",
      "\n",
      "\u001b[1m\u001b[95m# Agent:\u001b[00m \u001b[1m\u001b[92mEditor\u001b[00m\n",
      "\u001b[95m## Task:\u001b[00m \u001b[92mProofread the given blog post for grammatical errors and alignment with the brand's voice.\u001b[00m\n",
      "\n",
      "\n",
      "\u001b[1m\u001b[95m# Agent:\u001b[00m \u001b[1m\u001b[92mEditor\u001b[00m\n",
      "\u001b[95m## Final Answer:\u001b[00m \u001b[92m\n",
      "---\n",
      "\n",
      "# Discovering Graph Theory's Pivotal Role in LLM Studies 🔎\n",
      "\n",
      "Welcome to the captivating realm of **Graph Theory** and its groundbreaking influence on **LLM** (Master of Laws) studies! This article delves deep into the current trends, real-life case studies, benefits for students, and the game-changing effects of Graph Theory in legal networks and data analysis.\n",
      "\n",
      "## Surfing the Wave of Innovation: Trends in Applying Graph Theory 🌊\n",
      "\n",
      "Graph Theory transcends its mathematical roots to serve as the foundation of modern-day network analysis, contract law, and even legal decision-making processes. The prestigious Stanford Law School and MIT Media Lab's Human Dynamics Lab are spearheading the use of Graph Theory for legal purposes. Significant publications like [*Graph Theory in Legal Networks: A Survey*](https://www.sciencedirect.com/science/article/pii/S235234091830173X) illuminate the intricate ways Graph Theory is redefining legal studies.\n",
      "\n",
      "## Solving the Legal Riddle: A Case Study 🧩\n",
      "\n",
      "Consider a complex court case involving multiple witnesses and their connections. That's where **Graph Theory** comes into play! Let's take the high-profile Enron scandal as an example, in which Graph Theory was instrumental in unraveling the intricate web of relationships between the company's executives, ultimately leading to their convictions. This real-world scenario demonstrates how Graph Theory can redefine our approach to legal challenges.\n",
      "\n",
      "## Benefits Beyond Borders: Empowering LLM Students 🌐\n",
      "\n",
      "For students pursuing an LLM degree, understanding and applying Graph Theory offers a multitude of advantages. From analyzing complex **legal networks** to predicting legal trends and making data-driven decisions, Graph Theory arms LLM students with the essential tools to thrive in today's dynamic legal landscape.\n",
      "\n",
      "## Key Takeaways: Embrace the Power of Graph Theory 🎯\n",
      "\n",
      "- Graph Theory is a potent instrument for analyzing complex legal networks and predicting trends in law.\n",
      "- Top institutions like Stanford Law School and MIT Media Lab are at the forefront of applying Graph Theory to legal studies.\n",
      "- Real-world case studies, such as the Enron scandal, showcase the transformative impact of Graph Theory on court cases.\n",
      "- LLM students can reap substantial benefits from mastering and utilizing Graph Theory in their studies.\n",
      "\n",
      "## Spread the Knowledge, Change the Game 🚀\n",
      "\n",
      "Are you fascinated by Graph Theory's potential in law? Don't hesitate! Share this article with fellow LLM students or legal professionals who may find it enlightening. To delve deeper into Graph Theory and its applications in law, explore our extensive resources at [our website](https://www.example.com/graph-theory-resources).\n",
      "\n",
      "Unleash the power of Graph Theory and revolutionize your approach to legal studies! 💡🔬🚀\u001b[00m\n",
      "\n",
      "\n"
     ]
    }
   ],
   "source": [
    "result = crew.kickoff(inputs={\"topic\": \"Graph theory impact in llm\"})\n"
   ]
  },
  {
   "cell_type": "code",
   "execution_count": null,
   "id": "7ae315ec-0ac5-42bb-84cb-1993e8ffdf9b",
   "metadata": {},
   "outputs": [],
   "source": []
  },
  {
   "cell_type": "code",
   "execution_count": 15,
   "id": "e220ebb8-7a4c-4e7a-a02f-c9fe887cf3f8",
   "metadata": {},
   "outputs": [
    {
     "name": "stdout",
     "output_type": "stream",
     "text": [
      "---\n",
      "\n",
      "# Discovering Graph Theory's Pivotal Role in LLM Studies 🔎\n",
      "\n",
      "Welcome to the captivating realm of **Graph Theory** and its groundbreaking influence on **LLM** (Master of Laws) studies! This article delves deep into the current trends, real-life case studies, benefits for students, and the game-changing effects of Graph Theory in legal networks and data analysis.\n",
      "\n",
      "## Surfing the Wave of Innovation: Trends in Applying Graph Theory 🌊\n",
      "\n",
      "Graph Theory transcends its mathematical roots to serve as the foundation of modern-day network analysis, contract law, and even legal decision-making processes. The prestigious Stanford Law School and MIT Media Lab's Human Dynamics Lab are spearheading the use of Graph Theory for legal purposes. Significant publications like [*Graph Theory in Legal Networks: A Survey*](https://www.sciencedirect.com/science/article/pii/S235234091830173X) illuminate the intricate ways Graph Theory is redefining legal studies.\n",
      "\n",
      "## Solving the Legal Riddle: A Case Study 🧩\n",
      "\n",
      "Consider a complex court case involving multiple witnesses and their connections. That's where **Graph Theory** comes into play! Let's take the high-profile Enron scandal as an example, in which Graph Theory was instrumental in unraveling the intricate web of relationships between the company's executives, ultimately leading to their convictions. This real-world scenario demonstrates how Graph Theory can redefine our approach to legal challenges.\n",
      "\n",
      "## Benefits Beyond Borders: Empowering LLM Students 🌐\n",
      "\n",
      "For students pursuing an LLM degree, understanding and applying Graph Theory offers a multitude of advantages. From analyzing complex **legal networks** to predicting legal trends and making data-driven decisions, Graph Theory arms LLM students with the essential tools to thrive in today's dynamic legal landscape.\n",
      "\n",
      "## Key Takeaways: Embrace the Power of Graph Theory 🎯\n",
      "\n",
      "- Graph Theory is a potent instrument for analyzing complex legal networks and predicting trends in law.\n",
      "- Top institutions like Stanford Law School and MIT Media Lab are at the forefront of applying Graph Theory to legal studies.\n",
      "- Real-world case studies, such as the Enron scandal, showcase the transformative impact of Graph Theory on court cases.\n",
      "- LLM students can reap substantial benefits from mastering and utilizing Graph Theory in their studies.\n",
      "\n",
      "## Spread the Knowledge, Change the Game 🚀\n",
      "\n",
      "Are you fascinated by Graph Theory's potential in law? Don't hesitate! Share this article with fellow LLM students or legal professionals who may find it enlightening. To delve deeper into Graph Theory and its applications in law, explore our extensive resources at [our website](https://www.example.com/graph-theory-resources).\n",
      "\n",
      "Unleash the power of Graph Theory and revolutionize your approach to legal studies! 💡🔬🚀\n"
     ]
    }
   ],
   "source": [
    "print(result)"
   ]
  },
  {
   "cell_type": "code",
   "execution_count": null,
   "id": "d2e75166-ef69-4a02-addd-ee00bb016ccd",
   "metadata": {},
   "outputs": [],
   "source": []
  },
  {
   "cell_type": "code",
   "execution_count": null,
   "id": "0d0426e6-493f-4802-9a48-6968ced44f71",
   "metadata": {},
   "outputs": [],
   "source": []
  }
 ],
 "metadata": {
  "kernelspec": {
   "display_name": "Python (crewai_env)",
   "language": "python",
   "name": "crewai_env"
  },
  "language_info": {
   "codemirror_mode": {
    "name": "ipython",
    "version": 3
   },
   "file_extension": ".py",
   "mimetype": "text/x-python",
   "name": "python",
   "nbconvert_exporter": "python",
   "pygments_lexer": "ipython3",
   "version": "3.10.16"
  }
 },
 "nbformat": 4,
 "nbformat_minor": 5
}
